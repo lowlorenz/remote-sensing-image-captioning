{
 "cells": [
  {
   "cell_type": "code",
   "execution_count": null,
   "metadata": {},
   "outputs": [],
   "source": [
    "from evaluation import eval_validation\n",
    "import pandas as pd"
   ]
  },
  {
   "cell_type": "code",
   "execution_count": null,
   "metadata": {},
   "outputs": [],
   "source": [
    "def get_stats(reference_paths, prediction_path):\n",
    "    bleus = []\n",
    "    meteors = []\n",
    "    percentage = []\n",
    "\n",
    "    for i in range(9):\n",
    "        bleu, meteor = eval_validation(references_path=reference_paths, prediction_path=prediction_path + f'/val/{i}')\n",
    "        bleus.append(bleu)\n",
    "        meteors.append(meteor)\n",
    "        percentage.append((i+1)*5)\n",
    "    return bleus, meteors, percentage"
   ]
  },
  {
   "cell_type": "code",
   "execution_count": null,
   "metadata": {},
   "outputs": [],
   "source": [
    "img_cluster_runs = ['results/img_cluster_4', 'results/img_cluster_5', 'results/img_cluster_6']\n",
    "random_runs = ['results/random_0', 'results/random_1', 'results/random_2']"
   ]
  },
  {
   "cell_type": "code",
   "execution_count": null,
   "metadata": {},
   "outputs": [],
   "source": [
    "reference_paths = [f\"val_references_{i}.txt\" for i in range(5)]"
   ]
  },
  {
   "cell_type": "code",
   "execution_count": null,
   "metadata": {},
   "outputs": [],
   "source": [
    "img_cluster_stats = []\n",
    "\n",
    "for run in img_cluster_runs:\n",
    "   bleu, meteors, percentage = get_stats(reference_paths, run)\n",
    "   df = pd.DataFrame({\"bleu\": bleu, \"meteor\": meteors, \"percentage\": percentage,  \"method\": [\"img_cluster\"]*9})\n",
    "   img_cluster_stats.append(df)"
   ]
  },
  {
   "cell_type": "code",
   "execution_count": null,
   "metadata": {},
   "outputs": [],
   "source": [
    "random_stats = []\n",
    "\n",
    "for run in random_runs:\n",
    "   bleu, meteors, percentage = get_stats(reference_paths, run)\n",
    "   df = pd.DataFrame({\"bleu\": bleu, \"meteor\": meteors, \"percentage\": percentage, \"method\": [\"random\"]*9})\n",
    "   random_stats.append(df)"
   ]
  },
  {
   "cell_type": "code",
   "execution_count": null,
   "metadata": {},
   "outputs": [],
   "source": [
    "all = pd.concat((*random_stats, *img_cluster_stats))"
   ]
  },
  {
   "cell_type": "code",
   "execution_count": null,
   "metadata": {},
   "outputs": [],
   "source": [
    "import seaborn as sns\n",
    "import matplotlib.pyplot as plt"
   ]
  },
  {
   "cell_type": "code",
   "execution_count": null,
   "metadata": {},
   "outputs": [],
   "source": [
    "plt.figure(figsize=(20, 10))\n",
    "\n",
    "sns.set_theme(style=\"dark\")\n",
    "sns.lineplot(data=all, x=\"percentage\", y=\"bleu\", hue=\"method\")     \n",
    "\n",
    "plt.savefig('results/bleu.png')\n"
   ]
  },
  {
   "cell_type": "code",
   "execution_count": null,
   "metadata": {},
   "outputs": [],
   "source": [
    "plt.figure(figsize=(20, 10))\n",
    "\n",
    "sns.set_theme(style=\"dark\")\n",
    "sns.lineplot(data=all, x=\"percentage\", y=\"meteor\", hue=\"method\")     \n",
    "\n",
    "plt.savefig('results/meteor.png')\n"
   ]
  },
  {
   "cell_type": "code",
   "execution_count": null,
   "metadata": {},
   "outputs": [],
   "source": []
  }
 ],
 "metadata": {
  "kernelspec": {
   "display_name": "project_remote_sensing",
   "language": "python",
   "name": "python3"
  },
  "language_info": {
   "codemirror_mode": {
    "name": "ipython",
    "version": 3
   },
   "file_extension": ".py",
   "mimetype": "text/x-python",
   "name": "python",
   "nbconvert_exporter": "python",
   "pygments_lexer": "ipython3",
   "version": "3.10.8 | packaged by conda-forge | (main, Nov 24 2022, 14:07:00) [MSC v.1916 64 bit (AMD64)]"
  },
  "orig_nbformat": 4,
  "vscode": {
   "interpreter": {
    "hash": "d840cbe4dcbd4b89cc7a6e9091a6ef9aeca24b6a31e7b47638e6f03aa8287deb"
   }
  }
 },
 "nbformat": 4,
 "nbformat_minor": 2
}
