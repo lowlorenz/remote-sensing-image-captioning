{
 "cells": [
  {
   "cell_type": "code",
   "execution_count": 2,
   "id": "58d1a7a8",
   "metadata": {},
   "outputs": [],
   "source": [
    "import torch\n",
    "import torch.nn as nn\n",
    "from torch.optim import Adam\n",
    "from torchvision.transforms import ToTensor\n",
    "from transformers import VisionEncoderDecoderModel, BertTokenizer\n",
    "import pytorch_lightning as pl\n",
    "import os\n",
    "import seaborn as sns\n",
    "import matplotlib.pyplot as plt\n",
    "import copy\n",
    "from sklearn.model_selection import train_test_split\n",
    "from torch.utils.data import DataLoader\n",
    "from pytorch_lightning.loggers import WandbLogger\n",
    "from dataset import NWPU_Captions"
   ]
  },
  {
   "cell_type": "code",
   "execution_count": 3,
   "id": "dc5f2e40",
   "metadata": {},
   "outputs": [],
   "source": [
    "os.environ['CUDA_LAUNCH_BLOCKING'] = \"1\"\n",
    "torch.multiprocessing.set_sharing_strategy('file_system')"
   ]
  },
  {
   "cell_type": "code",
   "execution_count": 4,
   "id": "49644bae",
   "metadata": {},
   "outputs": [],
   "source": [
    "p = {\n",
    "    'device': 'cpu',\n",
    "    'sample_method': 'random',\n",
    "    'bs': 10,\n",
    "    'lr': 0.0001,\n",
    "    'epochs': 1,\n",
    "    'epochs_total': 10,\n",
    "    'maxcycles': 5,\n",
    "    'init_set_size': .05,\n",
    "    'new_data_size': .05,\n",
    "}"
   ]
  },
  {
   "cell_type": "code",
   "execution_count": 5,
   "id": "a3779605",
   "metadata": {},
   "outputs": [],
   "source": [
    "class ImageCaptioningSystem(pl.LightningModule):\n",
    "    def __init__(self, batchsize, lr, nepochs):\n",
    "        super().__init__()\n",
    "        self.model = VisionEncoderDecoderModel.from_encoder_decoder_pretrained(\n",
    "            \"google/vit-base-patch16-224-in21k\", \"bert-base-uncased\"\n",
    "        )\n",
    "        self.bert_tokenizer = BertTokenizer.from_pretrained(\"bert-base-uncased\")\n",
    "\n",
    "        self.model.config.decoder_start_token_id = self.bert_tokenizer.cls_token_id\n",
    "        self.model.config.pad_token_id = self.bert_tokenizer.pad_token_id\n",
    "        self.model.config.vocab_size = self.model.config.decoder.vocab_size\n",
    "        \n",
    "        self.batch_size = batchsize\n",
    "        self.lr = lr\n",
    "        self.epochs = nepochs\n",
    "\n",
    "    def forward(self, x):\n",
    "        return self.model(x)\n",
    "\n",
    "    def training_step(self, batch, batch_idx):\n",
    "        pixel_values, sentences, _ = batch\n",
    "\n",
    "        pixel_values = pixel_values.squeeze()        \n",
    "        tokens = self.bert_tokenizer(sentences, return_tensors = 'pt', padding='longest').input_ids.to(self.device)\n",
    "\n",
    "        outputs = self.model(pixel_values, labels=tokens)\n",
    "        loss = outputs.loss\n",
    "        return loss\n",
    "    \n",
    "    def validation_step(self, batch, batch_idx):\n",
    "        pixel_values, sentences, _ = batch\n",
    "\n",
    "        pixel_values = pixel_values.squeeze()        \n",
    "        tokens = self.bert_tokenizer(sentences, return_tensors = 'pt', padding='longest').input_ids.to(self.device)\n",
    "\n",
    "        outputs = self.forward(pixel_values, labels=tokens)\n",
    "        loss = outputs.loss\n",
    "        return loss\n",
    "\n",
    "    def configure_optimizers(self):\n",
    "        return torch.optim.Adam(self.parameters(), lr=self.lr)"
   ]
  },
  {
   "cell_type": "code",
   "execution_count": 6,
   "id": "44998fc3",
   "metadata": {},
   "outputs": [],
   "source": [
    "# Sampling Methods\n",
    "\n",
    "def random_selection(dataset, new_items):\n",
    "    new_unlabeled_set, new_train_set = train_test_split(dataset, test_size=new_items, shuffle=True)\n",
    "    return new_train_set, new_unlabeled_set\n",
    "\n",
    "def least_confidence(model, dataloader, new_items):\n",
    "    confidences = []\n",
    "    softmax = nn.Softmax()\n",
    "    for batch in iter(dataloader):\n",
    "        imgs, _, ids = batch\n",
    "        with torch.no_grad():\n",
    "            model.eval()\n",
    "            logits = model.forward(imgs.to(p['device']))\n",
    "        logits_softmax = softmax(logits)\n",
    "        predicted, _ = torch.max(logits_softmax, dim=1)\n",
    "        for i in range(len(predicted) - 1):\n",
    "            confidences.append((predicted[i], ids[i]))  \n",
    "    sorted_confidences = sorted(confidences, key=lambda x: x[0])\n",
    "    identifiers = [i[1].item() for i in sorted_confidences]\n",
    "    identifiers, _ = train_test_split(identifiers, test_size=1-new_items, shuffle=False)\n",
    "    return identifiers\n",
    "\n",
    "def label_new_data(unlabeled_set, ids):\n",
    "    new_data = [elem for elem in unlabeled_set if elem[2] in ids]\n",
    "    # Remove datapoints from unlabeled set\n",
    "    new_unlabeled_set = [elem for elem in unlabeled_set if elem[2] not in ids]\n",
    "    return new_train, new_unlabeled_set"
   ]
  },
  {
   "cell_type": "code",
   "execution_count": 7,
   "id": "7c8e2bfd",
   "metadata": {},
   "outputs": [],
   "source": [
    "def train_select_loop(ic_model, train_set, unlabeled_set, val_loader, sample_method, maxcycles):\n",
    "    print(sample_method)\n",
    "    model = copy.deepcopy(ic_model)\n",
    "    logger = None\n",
    "    cycle = 0\n",
    "    while cycle < maxcycles:\n",
    "        print('-' * 110 + f\"\\nRun {cycle}/{maxcycles-1} with {len(train_set)} training images, {len(val_set)} validation images, and {len(unlabeled_set)} unlabeled images.\\n\" + '-' * 110)\n",
    "        trainer = pl.Trainer(fast_dev_run=True, max_epochs=p['epochs'], num_sanity_val_steps=0, enable_model_summary=False,\n",
    "                             enable_progress_bar=False, accelerator=p['device'], logger=logger)\n",
    "        # Dataloaders for unlabeled and labeled training sets get re-initialized at every cycle\n",
    "        train_loader = DataLoader(train_set, batch_size=20, num_workers=os.cpu_count(), drop_last=False)\n",
    "        inference_loader = DataLoader(unlabeled_set, batch_size=100, num_workers=os.cpu_count(), drop_last=False)\n",
    "\n",
    "        trainer.fit(model, train_loader, val_loader)\n",
    "        \n",
    "        match sample_method:\n",
    "            case 'uncertainty':\n",
    "                identifiers = least_confidence(model, inference_loader, p['new_data_size'])\n",
    "                new_train, unlabeled_set = label_new_data(unlabeled_set, identifiers)\n",
    "            case 'random':\n",
    "                new_train, unlabeled_set = random_selection(unlabeled_set, p['new_data_size'])\n",
    "            case 'diversity':\n",
    "                ...\n",
    "        \n",
    "        train_set = train_set + new_train\n",
    "        \n",
    "        cycle += 1"
   ]
  },
  {
   "cell_type": "code",
   "execution_count": 17,
   "id": "01c03e6c",
   "metadata": {},
   "outputs": [
    {
     "name": "stdout",
     "output_type": "stream",
     "text": [
      "c:\\Users\\Lorenz\\EigeneDokumente\\Universität\\Semester 11\\Machine Learning for Remote Sensing\\image captioning\n"
     ]
    }
   ],
   "source": [
    "%cd \"c:\\Users\\Lorenz\\EigeneDokumente\\Universität\\Semester 11\\Machine Learning for Remote Sensing\\image captioning\""
   ]
  },
  {
   "cell_type": "code",
   "execution_count": 20,
   "id": "c01d79ed",
   "metadata": {},
   "outputs": [
    {
     "name": "stdout",
     "output_type": "stream",
     "text": [
      "44796 5600 5600\n"
     ]
    }
   ],
   "source": [
    "\n",
    "train_set = NWPU_Captions(root='NWPU_images', annotations_file='dataset_nwpu.json', split='train', transform=ToTensor())\n",
    "val_set = NWPU_Captions(root='NWPU_images', annotations_file='dataset_nwpu.json', split='val', transform=ToTensor())\n",
    "test_set = NWPU_Captions(root='NWPU_images', annotations_file='dataset_nwpu.json', split='test', transform=ToTensor())\n",
    "print(len(train_set), len(val_set), len(test_set))"
   ]
  },
  {
   "cell_type": "code",
   "execution_count": 21,
   "id": "4930275b",
   "metadata": {},
   "outputs": [],
   "source": [
    "train_set_unlabeled, train_set_labeled = train_test_split(train_set, test_size=p['init_set_size'], shuffle=True)"
   ]
  },
  {
   "cell_type": "code",
   "execution_count": 35,
   "id": "be1c701d",
   "metadata": {},
   "outputs": [],
   "source": [
    "val_loader = DataLoader(val_set, batch_size=20, num_workers=os.cpu_count(), drop_last=False, shuffle=False)\n",
    "test_loader = DataLoader(test_set, batch_size=20, num_workers=os.cpu_count(), drop_last=False, shuffle=False)"
   ]
  },
  {
   "cell_type": "code",
   "execution_count": 41,
   "id": "0a1be936",
   "metadata": {},
   "outputs": [
    {
     "name": "stderr",
     "output_type": "stream",
     "text": [
      "Some weights of the model checkpoint at bert-base-uncased were not used when initializing BertLMHeadModel: ['cls.seq_relationship.bias', 'cls.seq_relationship.weight']\n",
      "- This IS expected if you are initializing BertLMHeadModel from the checkpoint of a model trained on another task or with another architecture (e.g. initializing a BertForSequenceClassification model from a BertForPreTraining model).\n",
      "- This IS NOT expected if you are initializing BertLMHeadModel from the checkpoint of a model that you expect to be exactly identical (initializing a BertForSequenceClassification model from a BertForSequenceClassification model).\n",
      "Some weights of BertLMHeadModel were not initialized from the model checkpoint at bert-base-uncased and are newly initialized: ['bert.encoder.layer.5.crossattention.output.LayerNorm.weight', 'bert.encoder.layer.5.crossattention.self.key.bias', 'bert.encoder.layer.1.crossattention.output.LayerNorm.bias', 'bert.encoder.layer.6.crossattention.self.key.weight', 'bert.encoder.layer.2.crossattention.output.LayerNorm.weight', 'bert.encoder.layer.9.crossattention.self.key.weight', 'bert.encoder.layer.2.crossattention.self.value.weight', 'bert.encoder.layer.3.crossattention.output.dense.bias', 'bert.encoder.layer.8.crossattention.output.LayerNorm.weight', 'bert.encoder.layer.7.crossattention.self.value.weight', 'bert.encoder.layer.6.crossattention.output.dense.weight', 'bert.encoder.layer.11.crossattention.self.query.bias', 'bert.encoder.layer.1.crossattention.self.query.weight', 'bert.encoder.layer.1.crossattention.self.value.weight', 'bert.encoder.layer.2.crossattention.output.dense.weight', 'bert.encoder.layer.0.crossattention.output.dense.weight', 'bert.encoder.layer.5.crossattention.self.value.bias', 'bert.encoder.layer.10.crossattention.output.LayerNorm.weight', 'bert.encoder.layer.1.crossattention.self.key.weight', 'bert.encoder.layer.4.crossattention.output.LayerNorm.bias', 'bert.encoder.layer.6.crossattention.output.LayerNorm.bias', 'bert.encoder.layer.11.crossattention.self.key.bias', 'bert.encoder.layer.3.crossattention.self.value.bias', 'bert.encoder.layer.10.crossattention.self.query.bias', 'bert.encoder.layer.9.crossattention.self.query.bias', 'bert.encoder.layer.1.crossattention.self.key.bias', 'bert.encoder.layer.10.crossattention.output.dense.weight', 'bert.encoder.layer.3.crossattention.self.key.weight', 'bert.encoder.layer.2.crossattention.self.key.bias', 'bert.encoder.layer.6.crossattention.output.LayerNorm.weight', 'bert.encoder.layer.8.crossattention.self.query.bias', 'bert.encoder.layer.5.crossattention.self.key.weight', 'bert.encoder.layer.9.crossattention.output.dense.weight', 'bert.encoder.layer.1.crossattention.output.LayerNorm.weight', 'bert.encoder.layer.2.crossattention.self.value.bias', 'bert.encoder.layer.5.crossattention.output.dense.bias', 'bert.encoder.layer.0.crossattention.self.key.weight', 'bert.encoder.layer.7.crossattention.self.query.weight', 'bert.encoder.layer.11.crossattention.output.LayerNorm.weight', 'bert.encoder.layer.5.crossattention.self.query.bias', 'bert.encoder.layer.11.crossattention.self.query.weight', 'bert.encoder.layer.10.crossattention.self.key.weight', 'bert.encoder.layer.0.crossattention.self.query.weight', 'bert.encoder.layer.11.crossattention.self.value.weight', 'bert.encoder.layer.7.crossattention.self.key.bias', 'bert.encoder.layer.9.crossattention.output.dense.bias', 'bert.encoder.layer.9.crossattention.self.value.weight', 'bert.encoder.layer.7.crossattention.self.query.bias', 'bert.encoder.layer.8.crossattention.output.LayerNorm.bias', 'bert.encoder.layer.3.crossattention.self.value.weight', 'bert.encoder.layer.2.crossattention.self.query.weight', 'bert.encoder.layer.2.crossattention.self.key.weight', 'bert.encoder.layer.1.crossattention.self.value.bias', 'bert.encoder.layer.11.crossattention.self.value.bias', 'bert.encoder.layer.8.crossattention.self.value.weight', 'bert.encoder.layer.7.crossattention.output.LayerNorm.weight', 'bert.encoder.layer.4.crossattention.output.dense.bias', 'bert.encoder.layer.6.crossattention.output.dense.bias', 'bert.encoder.layer.7.crossattention.output.dense.bias', 'bert.encoder.layer.4.crossattention.output.LayerNorm.weight', 'bert.encoder.layer.10.crossattention.self.value.bias', 'bert.encoder.layer.10.crossattention.output.LayerNorm.bias', 'bert.encoder.layer.3.crossattention.self.key.bias', 'bert.encoder.layer.7.crossattention.self.key.weight', 'bert.encoder.layer.0.crossattention.output.dense.bias', 'bert.encoder.layer.4.crossattention.self.query.weight', 'bert.encoder.layer.4.crossattention.self.value.bias', 'bert.encoder.layer.9.crossattention.self.value.bias', 'bert.encoder.layer.6.crossattention.self.query.weight', 'bert.encoder.layer.9.crossattention.output.LayerNorm.bias', 'bert.encoder.layer.3.crossattention.output.LayerNorm.bias', 'bert.encoder.layer.8.crossattention.output.dense.weight', 'bert.encoder.layer.7.crossattention.output.LayerNorm.bias', 'bert.encoder.layer.9.crossattention.output.LayerNorm.weight', 'bert.encoder.layer.9.crossattention.self.query.weight', 'bert.encoder.layer.5.crossattention.self.query.weight', 'bert.encoder.layer.11.crossattention.output.dense.bias', 'bert.encoder.layer.4.crossattention.self.key.weight', 'bert.encoder.layer.3.crossattention.output.dense.weight', 'bert.encoder.layer.0.crossattention.self.key.bias', 'bert.encoder.layer.3.crossattention.self.query.weight', 'bert.encoder.layer.2.crossattention.output.LayerNorm.bias', 'bert.encoder.layer.4.crossattention.self.value.weight', 'bert.encoder.layer.0.crossattention.output.LayerNorm.bias', 'bert.encoder.layer.5.crossattention.output.dense.weight', 'bert.encoder.layer.5.crossattention.self.value.weight', 'bert.encoder.layer.0.crossattention.self.query.bias', 'bert.encoder.layer.1.crossattention.self.query.bias', 'bert.encoder.layer.8.crossattention.output.dense.bias', 'bert.encoder.layer.0.crossattention.output.LayerNorm.weight', 'bert.encoder.layer.0.crossattention.self.value.bias', 'bert.encoder.layer.4.crossattention.output.dense.weight', 'bert.encoder.layer.6.crossattention.self.key.bias', 'bert.encoder.layer.3.crossattention.self.query.bias', 'bert.encoder.layer.1.crossattention.output.dense.bias', 'bert.encoder.layer.3.crossattention.output.LayerNorm.weight', 'bert.encoder.layer.5.crossattention.output.LayerNorm.bias', 'bert.encoder.layer.7.crossattention.output.dense.weight', 'bert.encoder.layer.6.crossattention.self.value.bias', 'bert.encoder.layer.2.crossattention.output.dense.bias', 'bert.encoder.layer.9.crossattention.self.key.bias', 'bert.encoder.layer.8.crossattention.self.query.weight', 'bert.encoder.layer.0.crossattention.self.value.weight', 'bert.encoder.layer.11.crossattention.self.key.weight', 'bert.encoder.layer.10.crossattention.self.value.weight', 'bert.encoder.layer.7.crossattention.self.value.bias', 'bert.encoder.layer.4.crossattention.self.query.bias', 'bert.encoder.layer.10.crossattention.output.dense.bias', 'bert.encoder.layer.1.crossattention.output.dense.weight', 'bert.encoder.layer.11.crossattention.output.LayerNorm.bias', 'bert.encoder.layer.6.crossattention.self.value.weight', 'bert.encoder.layer.10.crossattention.self.key.bias', 'bert.encoder.layer.2.crossattention.self.query.bias', 'bert.encoder.layer.8.crossattention.self.key.bias', 'bert.encoder.layer.4.crossattention.self.key.bias', 'bert.encoder.layer.6.crossattention.self.query.bias', 'bert.encoder.layer.8.crossattention.self.value.bias', 'bert.encoder.layer.11.crossattention.output.dense.weight', 'bert.encoder.layer.10.crossattention.self.query.weight', 'bert.encoder.layer.8.crossattention.self.key.weight']\n",
      "You should probably TRAIN this model on a down-stream task to be able to use it for predictions and inference.\n"
     ]
    }
   ],
   "source": [
    "ic_model = ImageCaptioningSystem(p['bs'],p['lr'], p['epochs'])"
   ]
  },
  {
   "cell_type": "code",
   "execution_count": null,
   "id": "33075bd7",
   "metadata": {},
   "outputs": [
    {
     "name": "stdout",
     "output_type": "stream",
     "text": [
      "random\n"
     ]
    },
    {
     "name": "stderr",
     "output_type": "stream",
     "text": [
      "GPU available: False, used: False\n",
      "TPU available: None, using: 0 TPU cores\n",
      "Running in fast_dev_run mode: will run a full train, val and test loop using 1 batch(es).\n",
      "\n",
      "  | Name  | Type                      | Params\n",
      "----------------------------------------------------\n",
      "0 | model | VisionEncoderDecoderModel | 224 M \n",
      "----------------------------------------------------\n",
      "224 M     Trainable params\n",
      "0         Non-trainable params\n",
      "224 M     Total params\n"
     ]
    },
    {
     "name": "stdout",
     "output_type": "stream",
     "text": [
      "--------------------------------------------------------------------------------------------------------------\n",
      "Run 0/4 with 280 training images, 5600 validation images, and 5320 unlabeled images.\n",
      "--------------------------------------------------------------------------------------------------------------\n"
     ]
    },
    {
     "data": {
      "application/vnd.jupyter.widget-view+json": {
       "model_id": "dff0b75adcaa47229b5870c26b8bf1d8",
       "version_major": 2,
       "version_minor": 0
      },
      "text/plain": [
       "Training: 0it [00:00, ?it/s]"
      ]
     },
     "metadata": {},
     "output_type": "display_data"
    }
   ],
   "source": [
    "if p['sample_method'] is not None:\n",
    "    # train with active learning rule\n",
    "    train_select_loop(ic_model, train_set_labeled, train_set_unlabeled, val_loader, p['sample_method'], p['maxcycles'])\n",
    "else:\n",
    "    # train on whole training set\n",
    "    print('-' * 80 + f\"\\nTraining in the whole dataset with {len(train_set)} training images and {len(val_set)} validation images\\n\" + '-' * 80)\n",
    "    train_loader = DataLoader(train_set, batch_size=20, num_workers=os.cpu_count(), drop_last=False, shuffle=False)\n",
    "    model = copy.deepcopy(ic_model)\n",
    "    trainer = pl.Trainer(fast_dev_run=True, max_epochs=p['epochs_total'], num_sanity_val_steps=0, \n",
    "                         enable_progress_bar=False, accelerator=p['device'], logger=logger)\n",
    "    trainer.fit(model, train_loader, val_loader)"
   ]
  },
  {
   "cell_type": "code",
   "execution_count": null,
   "id": "4a8e5cfa",
   "metadata": {},
   "outputs": [],
   "source": []
  }
 ],
 "metadata": {
  "kernelspec": {
   "display_name": "Python 3.10.8 ('project_remote_sensing')",
   "language": "python",
   "name": "python3"
  },
  "language_info": {
   "codemirror_mode": {
    "name": "ipython",
    "version": 3
   },
   "file_extension": ".py",
   "mimetype": "text/x-python",
   "name": "python",
   "nbconvert_exporter": "python",
   "pygments_lexer": "ipython3",
   "version": "3.10.8"
  },
  "vscode": {
   "interpreter": {
    "hash": "d840cbe4dcbd4b89cc7a6e9091a6ef9aeca24b6a31e7b47638e6f03aa8287deb"
   }
  }
 },
 "nbformat": 4,
 "nbformat_minor": 5
}
