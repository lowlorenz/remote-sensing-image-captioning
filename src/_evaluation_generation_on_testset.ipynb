{
 "cells": [
  {
   "cell_type": "code",
   "execution_count": 1,
   "metadata": {},
   "outputs": [
    {
     "name": "stderr",
     "output_type": "stream",
     "text": [
      "/home/fe/hufe/miniconda3/envs/remote-sensing/lib/python3.10/site-packages/tqdm/auto.py:22: TqdmWarning: IProgress not found. Please update jupyter and ipywidgets. See https://ipywidgets.readthedocs.io/en/stable/user_install.html\n",
      "  from .autonotebook import tqdm as notebook_tqdm\n",
      "[nltk_data] Downloading package wordnet to /home/fe/hufe/nltk_data...\n",
      "[nltk_data]   Package wordnet is already up-to-date!\n",
      "[nltk_data] Downloading package punkt to /home/fe/hufe/nltk_data...\n",
      "[nltk_data]   Package punkt is already up-to-date!\n"
     ]
    }
   ],
   "source": [
    "from dataset import read_annotations_file, tokenize_sentences\n",
    "import numpy as np\n",
    "from model import ImageCaptioningSystem\n",
    "import pytorch_lightning as pl\n",
    "from pathlib import Path\n",
    "from dataset import NWPU_Captions\n",
    "from torchvision.transforms import ToTensor\n",
    "from torch.utils.data import DataLoader\n",
    "from evaluation import eval_validation\n",
    "import matplotlib.pyplot as plt\n",
    "import torch\n",
    "import pandas as pd\n",
    "import seaborn as sns\n",
    "import tqdm"
   ]
  },
  {
   "cell_type": "code",
   "execution_count": 4,
   "metadata": {},
   "outputs": [
    {
     "name": "stdout",
     "output_type": "stream",
     "text": [
      "/home/fe/hufe/Documents/semester11/activelearning_ic\n"
     ]
    }
   ],
   "source": [
    "%cd .."
   ]
  },
  {
   "cell_type": "code",
   "execution_count": 5,
   "metadata": {},
   "outputs": [],
   "source": [
    "annotations = read_annotations_file(\"NWPU-Captions/NWPU_images/\", \"NWPU-Captions/dataset_nwpu.json\")\n",
    "tk = annotations['test']['sentences']\n",
    "ids = np.array(annotations['test']['img_id'])\n",
    "order = ids.argsort()\n",
    "ordered_sentences = np.array(tk)[order]"
   ]
  },
  {
   "cell_type": "code",
   "execution_count": 6,
   "metadata": {},
   "outputs": [],
   "source": [
    "for i in range(5):\n",
    "    with open(f'evaluation/test_references_{i}.txt', 'w') as f:\n",
    "        for x in ordered_sentences[:,i]:\n",
    "            x = x.encode('ascii', 'ignore').decode('ascii')\n",
    "            f.write(x)\n",
    "            f.write('\\n')"
   ]
  },
  {
   "cell_type": "code",
   "execution_count": 7,
   "metadata": {},
   "outputs": [
    {
     "name": "stderr",
     "output_type": "stream",
     "text": [
      "/home/fe/hufe/miniconda3/envs/remote-sensing/lib/python3.10/site-packages/transformers/models/vit/feature_extraction_vit.py:28: FutureWarning: The class ViTFeatureExtractor is deprecated and will be removed in version 5 of Transformers. Please use ViTImageProcessor instead.\n",
      "  warnings.warn(\n"
     ]
    }
   ],
   "source": [
    "data_path = \"NWPU-Captions/\"\n",
    "images_path = Path(data_path, \"NWPU_images\")\n",
    "annotations_path = Path(data_path, \"dataset_nwpu.json\")\n",
    "\n",
    "test_set = NWPU_Captions(\n",
    "    root=images_path,\n",
    "    annotations_file=annotations_path,\n",
    "    split=\"test\",\n",
    "    transform=ToTensor(),\n",
    ")\n",
    "\n",
    "test_loader = DataLoader(\n",
    "    test_set, batch_size=12, shuffle=False, num_workers=4\n",
    ")"
   ]
  },
  {
   "cell_type": "code",
   "execution_count": 9,
   "metadata": {},
   "outputs": [
    {
     "name": "stderr",
     "output_type": "stream",
     "text": [
      "Lightning automatically upgraded your loaded checkpoint from v1.8.3.post1 to v1.9.2. To apply the upgrade to your files permanently, run `python -m pytorch_lightning.utilities.upgrade_checkpoint --file test/full.ckpt`\n",
      "Downloading (…)lve/main/config.json: 100%|██████████| 4.61k/4.61k [00:00<00:00, 1.74MB/s]\n",
      "Downloading (…)\"pytorch_model.bin\";: 100%|██████████| 982M/982M [00:31<00:00, 31.6MB/s] \n"
     ]
    }
   ],
   "source": [
    "# trainer = pl.Trainer(accelerator=\"cuda\",)\n",
    "model = ImageCaptioningSystem.load_from_checkpoint(\"test/full.ckpt\", lr=0.001, device_type='cpu', sampling_method='cluster')\n",
    "# results = trainer.predict(model, test_loader)"
   ]
  },
  {
   "cell_type": "code",
   "execution_count": null,
   "metadata": {},
   "outputs": [],
   "source": [
    "with tqdm.tqdm(total=len(test_loader)) as pbar:\n",
    "    for batch in test_loader:\n",
    "        pixel_values, sentences_token, img_ids, sentences_ids = batch\n",
    "        print(img_ids)\n",
    "        pixel_values = pixel_values.squeeze(dim=1)\n",
    "        bs = pixel_values.shape[0]\n",
    "        label = sentences_token[:, 0, :].long().contiguous()\n",
    "\n",
    "        with torch.no_grad():\n",
    "            out = model.model(\n",
    "                    pixel_values=pixel_values, labels=label, output_hidden_states=True\n",
    "                )\n",
    "\n",
    "        logits = out.logits\n",
    "        logits_softmax = torch.nn.functional.softmax(logits, dim=2)\n",
    "        pbar.update(1)\n"
   ]
  },
  {
   "cell_type": "code",
   "execution_count": 60,
   "metadata": {},
   "outputs": [
    {
     "name": "stderr",
     "output_type": "stream",
     "text": [
      "c:\\Users\\Lorenz\\miniconda3\\envs\\project_remote_sensing\\lib\\site-packages\\nltk\\translate\\bleu_score.py:552: UserWarning: \n",
      "The hypothesis contains 0 counts of 4-gram overlaps.\n",
      "Therefore the BLEU score evaluates to 0, independently of\n",
      "how many N-gram overlaps of lower order it contains.\n",
      "Consider using lower n-gram order or use SmoothingFunction()\n",
      "  warnings.warn(_msg)\n",
      "c:\\Users\\Lorenz\\miniconda3\\envs\\project_remote_sensing\\lib\\site-packages\\nltk\\translate\\bleu_score.py:552: UserWarning: \n",
      "The hypothesis contains 0 counts of 3-gram overlaps.\n",
      "Therefore the BLEU score evaluates to 0, independently of\n",
      "how many N-gram overlaps of lower order it contains.\n",
      "Consider using lower n-gram order or use SmoothingFunction()\n",
      "  warnings.warn(_msg)\n",
      "c:\\Users\\Lorenz\\miniconda3\\envs\\project_remote_sensing\\lib\\site-packages\\nltk\\translate\\bleu_score.py:552: UserWarning: \n",
      "The hypothesis contains 0 counts of 2-gram overlaps.\n",
      "Therefore the BLEU score evaluates to 0, independently of\n",
      "how many N-gram overlaps of lower order it contains.\n",
      "Consider using lower n-gram order or use SmoothingFunction()\n",
      "  warnings.warn(_msg)\n"
     ]
    }
   ],
   "source": [
    "bleu, meteor, rogue = eval_validation([f'test/test_references_{i}.txt' for i in range(5)], 'test')\n",
    "soa_bleu, soa_meteor, soa_rouge = 0.463, 0.337, 0.628"
   ]
  },
  {
   "cell_type": "code",
   "execution_count": 63,
   "metadata": {},
   "outputs": [
    {
     "data": {
      "text/html": [
       "<div>\n",
       "<style scoped>\n",
       "    .dataframe tbody tr th:only-of-type {\n",
       "        vertical-align: middle;\n",
       "    }\n",
       "\n",
       "    .dataframe tbody tr th {\n",
       "        vertical-align: top;\n",
       "    }\n",
       "\n",
       "    .dataframe thead th {\n",
       "        text-align: right;\n",
       "    }\n",
       "</style>\n",
       "<table border=\"1\" class=\"dataframe\">\n",
       "  <thead>\n",
       "    <tr style=\"text-align: right;\">\n",
       "      <th></th>\n",
       "      <th>bleu</th>\n",
       "      <th>meteor</th>\n",
       "      <th>rogue</th>\n",
       "      <th>model</th>\n",
       "    </tr>\n",
       "  </thead>\n",
       "  <tbody>\n",
       "    <tr>\n",
       "      <th>0</th>\n",
       "      <td>0.774181</td>\n",
       "      <td>0.453994</td>\n",
       "      <td>0.671007</td>\n",
       "      <td>ours</td>\n",
       "    </tr>\n",
       "    <tr>\n",
       "      <th>1</th>\n",
       "      <td>0.463000</td>\n",
       "      <td>0.337000</td>\n",
       "      <td>0.628000</td>\n",
       "      <td>soa</td>\n",
       "    </tr>\n",
       "  </tbody>\n",
       "</table>\n",
       "</div>"
      ],
      "text/plain": [
       "       bleu    meteor     rogue model\n",
       "0  0.774181  0.453994  0.671007  ours\n",
       "1  0.463000  0.337000  0.628000   soa"
      ]
     },
     "execution_count": 63,
     "metadata": {},
     "output_type": "execute_result"
    }
   ],
   "source": [
    "pd.DataFrame({'bleu':[bleu, soa_bleu], 'meteor':[meteor, soa_meteor], 'rogue':[rogue, soa_rouge], 'model':['ours', 'soa']})"
   ]
  }
 ],
 "metadata": {
  "kernelspec": {
   "display_name": "Python 3.10.9 ('remote-sensing')",
   "language": "python",
   "name": "python3"
  },
  "language_info": {
   "codemirror_mode": {
    "name": "ipython",
    "version": 3
   },
   "file_extension": ".py",
   "mimetype": "text/x-python",
   "name": "python",
   "nbconvert_exporter": "python",
   "pygments_lexer": "ipython3",
   "version": "3.10.9"
  },
  "orig_nbformat": 4,
  "vscode": {
   "interpreter": {
    "hash": "917810dc88ca007b49b9c8aa582b9f2a1066457d24712c16f380cbb98b6fae45"
   }
  }
 },
 "nbformat": 4,
 "nbformat_minor": 2
}
