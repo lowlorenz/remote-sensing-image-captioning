{
 "cells": [
  {
   "cell_type": "code",
   "execution_count": 68,
   "metadata": {},
   "outputs": [],
   "source": [
    "from dataset import read_annotations_file, tokenize_sentences\n",
    "import numpy as np\n",
    "from model import ImageCaptioningSystem\n",
    "import pytorch_lightning as pl\n",
    "from pathlib import Path\n",
    "from dataset import NWPU_Captions\n",
    "from torchvision.transforms import ToTensor\n",
    "from torch.utils.data import DataLoader\n",
    "from evaluation import eval_validation\n",
    "import matplotlib.pyplot as plt\n",
    "import torch\n",
    "import pandas as pd\n",
    "import seaborn as sns\n",
    "import tqdm"
   ]
  },
  {
   "cell_type": "code",
   "execution_count": 5,
   "metadata": {},
   "outputs": [],
   "source": [
    "annotations = read_annotations_file(\"NWPU-Captions/NWPU_images/\", \"NWPU-Captions/dataset_nwpu.json\")\n",
    "tk = annotations['test']['sentences']\n",
    "ids = np.array(annotations['test']['img_id'])\n",
    "order = ids.argsort()\n",
    "ordered_sentences = np.array(tk)[order]"
   ]
  },
  {
   "cell_type": "code",
   "execution_count": 6,
   "metadata": {},
   "outputs": [],
   "source": [
    "for i in range(5):\n",
    "    with open(f'test_references_{i}.txt', 'w') as f:\n",
    "        for x in ordered_sentences[:,i]:\n",
    "            x = x.encode('ascii', 'ignore').decode('ascii')\n",
    "            f.write(x)\n",
    "            f.write('\\n')"
   ]
  },
  {
   "cell_type": "code",
   "execution_count": 7,
   "metadata": {},
   "outputs": [
    {
     "name": "stderr",
     "output_type": "stream",
     "text": [
      "Downloading (…)rocessor_config.json: 100%|██████████| 228/228 [00:00<00:00, 145kB/s]\n",
      "/home/fe/hufe/miniconda3/envs/remote-sensing/lib/python3.10/site-packages/transformers/models/vit/feature_extraction_vit.py:28: FutureWarning: The class ViTFeatureExtractor is deprecated and will be removed in version 5 of Transformers. Please use ViTImageProcessor instead.\n",
      "  warnings.warn(\n"
     ]
    }
   ],
   "source": [
    "data_path = \"NWPU-Captions/\"\n",
    "images_path = Path(data_path, \"NWPU_images\")\n",
    "annotations_path = Path(data_path, \"dataset_nwpu.json\")\n",
    "\n",
    "test_set = NWPU_Captions(\n",
    "    root=images_path,\n",
    "    annotations_file=annotations_path,\n",
    "    split=\"test\",\n",
    "    transform=ToTensor(),\n",
    ")\n",
    "\n",
    "test_loader = DataLoader(\n",
    "    test_set, batch_size=12, shuffle=False, num_workers=4\n",
    ")"
   ]
  },
  {
   "cell_type": "code",
   "execution_count": 9,
   "metadata": {},
   "outputs": [
    {
     "name": "stderr",
     "output_type": "stream",
     "text": [
      "Lightning automatically upgraded your loaded checkpoint from v1.8.3.post1 to v1.9.2. To apply the upgrade to your files permanently, run `python -m pytorch_lightning.utilities.upgrade_checkpoint --file test/full.ckpt`\n",
      "Downloading (…)lve/main/config.json: 100%|██████████| 4.61k/4.61k [00:00<00:00, 1.74MB/s]\n",
      "Downloading (…)\"pytorch_model.bin\";: 100%|██████████| 982M/982M [00:31<00:00, 31.6MB/s] \n"
     ]
    }
   ],
   "source": [
    "# trainer = pl.Trainer(accelerator=\"cuda\",)\n",
    "model = ImageCaptioningSystem.load_from_checkpoint(\"test/full.ckpt\", lr=0.001, device_type='cpu', sampling_method='cluster')\n",
    "# results = trainer.predict(model, test_loader)"
   ]
  },
  {
   "cell_type": "code",
   "execution_count": null,
   "metadata": {},
   "outputs": [],
   "source": [
    "confidences = []\n",
    "\n",
    "with tqdm.tqdm(total=len(test_loader)) as pbar:\n",
    "    for batch in test_loader:\n",
    "        pixel_values, sentences_token, img_ids, sentences_ids = batch\n",
    "        print(img_ids)\n",
    "        pixel_values = pixel_values.squeeze(dim=1)\n",
    "        bs = pixel_values.shape[0]\n",
    "        label = sentences_token[:, 0, :].long().contiguous()\n",
    "\n",
    "        with torch.no_grad():\n",
    "            out = model.model(\n",
    "                    pixel_values=pixel_values, labels=label, output_hidden_states=True\n",
    "                )\n",
    "\n",
    "        logits = out.logits\n",
    "        logits_softmax = torch.nn.functional.softmax(logits, dim=2)\n",
    "        word_conf, _ = torch.max(logits_softmax, dim=2)\n",
    "\n",
    "        confidences.append(word_conf.numpy())\n",
    "        pbar.update(1)\n"
   ]
  },
  {
   "cell_type": "code",
   "execution_count": 60,
   "metadata": {},
   "outputs": [
    {
     "name": "stderr",
     "output_type": "stream",
     "text": [
      "/tmp/ipykernel_80032/4255783552.py:3: RuntimeWarning: invalid value encountered in divide\n",
      "  hist = masked_confidences.sum(axis=0) / masked_hits.sum(axis=0)\n"
     ]
    }
   ],
   "source": [
    "confidences = np.concatenate(confidences)\n",
    "masked_hits = np.where(confidences != 1, 1, 0)\n",
    "masked_confidences = np.where(confidences != 1, confidences, 0)\n",
    "hist = masked_confidences.sum(axis=0) / masked_hits.sum(axis=0)"
   ]
  },
  {
   "cell_type": "code",
   "execution_count": 78,
   "metadata": {},
   "outputs": [
    {
     "data": {
      "text/plain": [
       "Text(0, 0.5, 'Confidence')"
      ]
     },
     "execution_count": 78,
     "metadata": {},
     "output_type": "execute_result"
    },
    {
     "data": {
      "image/png": "[encoded data removed]",
      "text/plain": [
       "<Figure size 1000x500 with 1 Axes>"
      ]
     },
     "metadata": {},
     "output_type": "display_data"
    }
   ],
   "source": [
    "plt.figure(figsize=(10, 5))\n",
    "sns.set_theme(style=\"whitegrid\")\n",
    "\n",
    "sns.barplot(x=list(range(25)), y=hist[:25], color='cyan')\n",
    "\n",
    "plt.xticks(ticks=[0, 5, 10, 15, 20, 25], labels=[0, 5, 10, 15, 20, 25])\n",
    "plt.xlabel('Word index')\n",
    "plt.ylabel('Confidence')"
   ]
  }
 ],
 "metadata": {
  "kernelspec": {
   "display_name": "Python 3.10.9 ('remote-sensing')",
   "language": "python",
   "name": "python3"
  },
  "language_info": {
   "codemirror_mode": {
    "name": "ipython",
    "version": 3
   },
   "file_extension": ".py",
   "mimetype": "text/x-python",
   "name": "python",
   "nbconvert_exporter": "python",
   "pygments_lexer": "ipython3",
   "version": "3.10.9"
  },
  "orig_nbformat": 4,
  "vscode": {
   "interpreter": {
    "hash": "917810dc88ca007b49b9c8aa582b9f2a1066457d24712c16f380cbb98b6fae45"
   }
  }
 },
 "nbformat": 4,
 "nbformat_minor": 2
}
