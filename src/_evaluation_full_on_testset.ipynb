{
 "cells": [
  {
   "cell_type": "code",
   "execution_count": 1,
   "metadata": {},
   "outputs": [
    {
     "name": "stderr",
     "output_type": "stream",
     "text": [
      "/home/fe/hufe/miniconda3/envs/remote-sensing/lib/python3.10/site-packages/tqdm/auto.py:22: TqdmWarning: IProgress not found. Please update jupyter and ipywidgets. See https://ipywidgets.readthedocs.io/en/stable/user_install.html\n",
      "  from .autonotebook import tqdm as notebook_tqdm\n",
      "[nltk_data] Downloading package wordnet to /home/fe/hufe/nltk_data...\n",
      "[nltk_data]   Package wordnet is already up-to-date!\n",
      "[nltk_data] Downloading package punkt to /home/fe/hufe/nltk_data...\n",
      "[nltk_data]   Package punkt is already up-to-date!\n"
     ]
    }
   ],
   "source": [
    "from dataset import read_annotations_file, tokenize_sentences\n",
    "import numpy as np\n",
    "from model import ImageCaptioningSystem\n",
    "import pytorch_lightning as pl\n",
    "from pathlib import Path\n",
    "from dataset import NWPU_Captions\n",
    "from torchvision.transforms import ToTensor\n",
    "from torch.utils.data import DataLoader\n",
    "from evaluation import eval_validation\n",
    "import matplotlib.pyplot as plt\n",
    "import torch\n",
    "from transformers import GPT2TokenizerFast, BertTokenizer, BertModel\n",
    "import pandas as pd\n",
    "import seaborn as sns\n",
    "import tqdm\n",
    "import umap\n",
    "\n",
    "from sklearn.cluster import KMeans"
   ]
  },
  {
   "cell_type": "code",
   "execution_count": 2,
   "metadata": {},
   "outputs": [
    {
     "name": "stdout",
     "output_type": "stream",
     "text": [
      "/home/fe/hufe/Documents/semester11/activelearning_ic\n"
     ]
    }
   ],
   "source": [
    "%cd .."
   ]
  },
  {
   "cell_type": "code",
   "execution_count": 3,
   "metadata": {},
   "outputs": [],
   "source": [
    "annotations = read_annotations_file(\"NWPU-Captions/NWPU_images/\", \"NWPU-Captions/dataset_nwpu.json\")\n",
    "tk = annotations['test']['sentences']\n",
    "ids = np.array(annotations['test']['img_id'])\n",
    "order = ids.argsort()\n",
    "ordered_sentences = np.array(tk)[order]"
   ]
  },
  {
   "cell_type": "code",
   "execution_count": 4,
   "metadata": {},
   "outputs": [],
   "source": [
    "for i in range(5):\n",
    "    with open(f'evaluation/test_references_{i}.txt', 'w') as f:\n",
    "        for x in ordered_sentences[:,i]:\n",
    "            x = x.encode('ascii', 'ignore').decode('ascii')\n",
    "            f.write(x)\n",
    "            f.write('\\n')"
   ]
  },
  {
   "cell_type": "code",
   "execution_count": 5,
   "metadata": {},
   "outputs": [
    {
     "name": "stderr",
     "output_type": "stream",
     "text": [
      "/home/fe/hufe/miniconda3/envs/remote-sensing/lib/python3.10/site-packages/transformers/models/vit/feature_extraction_vit.py:28: FutureWarning: The class ViTFeatureExtractor is deprecated and will be removed in version 5 of Transformers. Please use ViTImageProcessor instead.\n",
      "  warnings.warn(\n"
     ]
    }
   ],
   "source": [
    "data_path = \"NWPU-Captions/\"\n",
    "images_path = Path(data_path, \"NWPU_images\")\n",
    "annotations_path = Path(data_path, \"dataset_nwpu.json\")\n",
    "\n",
    "test_set = NWPU_Captions(\n",
    "    root=images_path,\n",
    "    annotations_file=annotations_path,\n",
    "    split=\"test\",\n",
    "    transform=ToTensor(),\n",
    ")\n",
    "\n",
    "test_loader = DataLoader(\n",
    "    test_set, batch_size=12, shuffle=False, num_workers=4\n",
    ")"
   ]
  },
  {
   "cell_type": "code",
   "execution_count": 6,
   "metadata": {},
   "outputs": [],
   "source": [
    "device = torch.device(\"cuda:0\" if torch.cuda.is_available() else \"cpu\")"
   ]
  },
  {
   "cell_type": "code",
   "execution_count": 7,
   "metadata": {},
   "outputs": [],
   "source": [
    "\n",
    "model = ImageCaptioningSystem.load_from_checkpoint(\"test/full.ckpt\", lr=0.001, device_type=device, sampling_method='cluster')\n"
   ]
  },
  {
   "cell_type": "code",
   "execution_count": 10,
   "metadata": {},
   "outputs": [
    {
     "name": "stderr",
     "output_type": "stream",
     "text": [
      "100%|██████████| 263/263 [00:55<00:00,  4.71it/s]\n"
     ]
    }
   ],
   "source": [
    "confidences = []\n",
    "ids = []\n",
    "model.model = model.model.to(device)\n",
    "\n",
    "with tqdm.tqdm(total=len(test_loader)) as pbar:\n",
    "    for batch in test_loader:\n",
    "        pixel_values, sentences_token, img_ids, sentences_ids = batch\n",
    "        \n",
    "        pixel_values = pixel_values.squeeze(dim=1)\n",
    "        bs = pixel_values.shape[0]\n",
    "        label = sentences_token[:, 0, :].long().contiguous()\n",
    "\n",
    "        pixel_values = pixel_values.to(device)\n",
    "        label = label.to(device)\n",
    "\n",
    "        with torch.no_grad():\n",
    "            out = model.model(\n",
    "                    pixel_values=pixel_values, labels=label, output_hidden_states=True\n",
    "                )\n",
    "\n",
    "        logits = out.logits\n",
    "        logits_softmax = torch.nn.functional.softmax(logits, dim=2)\n",
    "        word_conf, _ = torch.max(logits_softmax, dim=2)\n",
    "        \n",
    "        ids.append(img_ids.cpu().numpy())\n",
    "        confidences.append(word_conf.cpu().numpy())\n",
    "        \n",
    "        pbar.update(1)\n"
   ]
  },
  {
   "cell_type": "code",
   "execution_count": null,
   "metadata": {},
   "outputs": [],
   "source": [
    "confidences = np.concatenate(confidences)\n",
    "ids = np.concatenate(ids)"
   ]
  },
  {
   "cell_type": "code",
   "execution_count": 31,
   "metadata": {},
   "outputs": [
    {
     "data": {
      "text/plain": [
       "((3150, 56), (3150,))"
      ]
     },
     "execution_count": 31,
     "metadata": {},
     "output_type": "execute_result"
    }
   ],
   "source": [
    "conf_array, ids_array = np.row_stack(confidences), np.row_stack(ids).flatten()\n",
    "conf_array.shape , ids_array.shape  "
   ]
  },
  {
   "cell_type": "code",
   "execution_count": 36,
   "metadata": {},
   "outputs": [],
   "source": [
    "order = np.argsort(ids_array)\n",
    "\n",
    "conf_array = conf_array[order]"
   ]
  },
  {
   "cell_type": "code",
   "execution_count": 8,
   "metadata": {},
   "outputs": [
    {
     "data": {
      "text/plain": [
       "3150"
      ]
     },
     "execution_count": 8,
     "metadata": {},
     "output_type": "execute_result"
    }
   ],
   "source": [
    "open('evaluation/full_model_on_testset.txt').read().splitlines().__len__()"
   ]
  },
  {
   "cell_type": "code",
   "execution_count": 73,
   "metadata": {},
   "outputs": [],
   "source": [
    "data = pd.DataFrame({\n",
    "    'classes': open('test/test_classes.txt').read().splitlines(),\n",
    "    'text': open('test/test_hypothesis.txt').read().splitlines(),\n",
    "    'conf': list(conf_array)\n",
    "    })"
   ]
  },
  {
   "cell_type": "code",
   "execution_count": 62,
   "metadata": {},
   "outputs": [
    {
     "name": "stderr",
     "output_type": "stream",
     "text": [
      "Some weights of the model checkpoint at bert-base-uncased were not used when initializing BertModel: ['cls.predictions.decoder.weight', 'cls.predictions.transform.dense.bias', 'cls.seq_relationship.weight', 'cls.predictions.transform.LayerNorm.weight', 'cls.seq_relationship.bias', 'cls.predictions.bias', 'cls.predictions.transform.LayerNorm.bias', 'cls.predictions.transform.dense.weight']\n",
      "- This IS expected if you are initializing BertModel from the checkpoint of a model trained on another task or with another architecture (e.g. initializing a BertForSequenceClassification model from a BertForPreTraining model).\n",
      "- This IS NOT expected if you are initializing BertModel from the checkpoint of a model that you expect to be exactly identical (initializing a BertForSequenceClassification model from a BertForSequenceClassification model).\n"
     ]
    }
   ],
   "source": [
    "device = torch.device(\"cuda\" if torch.cuda.is_available() else \"cpu\")\n",
    "bert_tokenizer = BertTokenizer.from_pretrained(\"bert-base-uncased\")\n",
    "bert = BertModel.from_pretrained(\"bert-base-uncased\").to(device)"
   ]
  },
  {
   "cell_type": "code",
   "execution_count": null,
   "metadata": {},
   "outputs": [],
   "source": [
    "masked_hits = np.where(confidences != 1, 1, 0)\n",
    "masked_confidences = np.where(confidences != 1, confidences, 0)\n",
    "hist = masked_confidences.sum(axis=0) / masked_hits.sum(axis=0)"
   ]
  },
  {
   "cell_type": "code",
   "execution_count": 64,
   "metadata": {},
   "outputs": [
    {
     "name": "stderr",
     "output_type": "stream",
     "text": [
      "100%|██████████| 3150/3150 [00:39<00:00, 80.57it/s]\n"
     ]
    }
   ],
   "source": [
    "with torch.no_grad():\n",
    "    tokens = bert_tokenizer(list(data.text.values), padding=\"longest\").input_ids\n",
    "    tokens = torch.tensor(tokens).to(device)\n",
    "    embeddings = []\n",
    "    for i in tqdm.tqdm(range(len(tokens))):\n",
    "        emb = bert(tokens[i].view(1,38)).pooler_output.cpu().detach()\n",
    "        embeddings.append(emb)"
   ]
  },
  {
   "cell_type": "code",
   "execution_count": 65,
   "metadata": {},
   "outputs": [],
   "source": [
    "embeddings = list(map(lambda x: x[0].numpy(), embeddings))"
   ]
  },
  {
   "cell_type": "code",
   "execution_count": 74,
   "metadata": {},
   "outputs": [
    {
     "data": {
      "text/html": [
       "<div>\n",
       "<style scoped>\n",
       "    .dataframe tbody tr th:only-of-type {\n",
       "        vertical-align: middle;\n",
       "    }\n",
       "\n",
       "    .dataframe tbody tr th {\n",
       "        vertical-align: top;\n",
       "    }\n",
       "\n",
       "    .dataframe thead th {\n",
       "        text-align: right;\n",
       "    }\n",
       "</style>\n",
       "<table border=\"1\" class=\"dataframe\">\n",
       "  <thead>\n",
       "    <tr style=\"text-align: right;\">\n",
       "      <th></th>\n",
       "      <th>classes</th>\n",
       "      <th>text</th>\n",
       "      <th>conf</th>\n",
       "      <th>text_embeddings</th>\n",
       "    </tr>\n",
       "  </thead>\n",
       "  <tbody>\n",
       "    <tr>\n",
       "      <th>0</th>\n",
       "      <td>airport</td>\n",
       "      <td>An airport with a runway on the farmland and s...</td>\n",
       "      <td>[0.40354893, 0.9988651, 0.92300886, 0.42026994...</td>\n",
       "      <td>[-0.44611844, -0.5037827, -0.9770528, 0.629920...</td>\n",
       "    </tr>\n",
       "    <tr>\n",
       "      <th>1</th>\n",
       "      <td>airport</td>\n",
       "      <td>The airport with some staggered runways and a ...</td>\n",
       "      <td>[0.25058964, 0.9982071, 0.9722014, 0.6550449, ...</td>\n",
       "      <td>[-0.49807495, -0.3656745, -0.86610484, 0.51463...</td>\n",
       "    </tr>\n",
       "    <tr>\n",
       "      <th>2</th>\n",
       "      <td>airport</td>\n",
       "      <td>An airport with two parallel runways perpendic...</td>\n",
       "      <td>[0.483505, 0.99916255, 0.9385024, 0.4119709, 0...</td>\n",
       "      <td>[-0.43180054, -0.5027431, -0.96019113, 0.59383...</td>\n",
       "    </tr>\n",
       "    <tr>\n",
       "      <th>3</th>\n",
       "      <td>airport</td>\n",
       "      <td>There airport with some parallelways perpendic...</td>\n",
       "      <td>[0.25636074, 0.99622107, 0.9557086, 0.32363772...</td>\n",
       "      <td>[-0.14300999, -0.4275721, -0.9775194, 0.501682...</td>\n",
       "    </tr>\n",
       "    <tr>\n",
       "      <th>4</th>\n",
       "      <td>airport</td>\n",
       "      <td>An airport with some staggeredways perpendicul...</td>\n",
       "      <td>[0.3787551, 0.9991002, 0.95848227, 0.45996037,...</td>\n",
       "      <td>[-0.4592382, -0.52649605, -0.97654355, 0.63209...</td>\n",
       "    </tr>\n",
       "    <tr>\n",
       "      <th>...</th>\n",
       "      <td>...</td>\n",
       "      <td>...</td>\n",
       "      <td>...</td>\n",
       "      <td>...</td>\n",
       "    </tr>\n",
       "    <tr>\n",
       "      <th>3145</th>\n",
       "      <td>airplane</td>\n",
       "      <td>Two planes are next the open and a lawn beside.</td>\n",
       "      <td>[0.700559, 0.4066743, 0.5457334, 0.42717522, 0...</td>\n",
       "      <td>[-0.42181855, -0.5287245, -0.980238, 0.5691961...</td>\n",
       "    </tr>\n",
       "    <tr>\n",
       "      <th>3146</th>\n",
       "      <td>airplane</td>\n",
       "      <td>A purple plane parked next to a boarding bridg...</td>\n",
       "      <td>[0.40402263, 0.4289053, 0.91317993, 0.6797357,...</td>\n",
       "      <td>[-0.26916754, -0.35601264, -0.93533576, 0.4809...</td>\n",
       "    </tr>\n",
       "    <tr>\n",
       "      <th>3147</th>\n",
       "      <td>airplane</td>\n",
       "      <td>Two planes planes parked different sizes are i...</td>\n",
       "      <td>[0.31834695, 0.4757649, 0.7869386, 0.40645906,...</td>\n",
       "      <td>[-0.39184868, -0.40650916, -0.9101948, 0.43862...</td>\n",
       "    </tr>\n",
       "    <tr>\n",
       "      <th>3148</th>\n",
       "      <td>airplane</td>\n",
       "      <td>Two planes are on a line on the open while a b...</td>\n",
       "      <td>[0.6247576, 0.5185052, 0.59193176, 0.3818173, ...</td>\n",
       "      <td>[-0.55357575, -0.45693985, -0.9415538, 0.64116...</td>\n",
       "    </tr>\n",
       "    <tr>\n",
       "      <th>3149</th>\n",
       "      <td>airplane</td>\n",
       "      <td>An red with red red mark and next to a boardin...</td>\n",
       "      <td>[0.34919745, 0.7915334, 0.50051045, 0.5453926,...</td>\n",
       "      <td>[-0.41634467, -0.20483322, -0.8536528, 0.50954...</td>\n",
       "    </tr>\n",
       "  </tbody>\n",
       "</table>\n",
       "<p>3150 rows × 4 columns</p>\n",
       "</div>"
      ],
      "text/plain": [
       "       classes                                               text  \\\n",
       "0      airport  An airport with a runway on the farmland and s...   \n",
       "1      airport  The airport with some staggered runways and a ...   \n",
       "2      airport  An airport with two parallel runways perpendic...   \n",
       "3      airport  There airport with some parallelways perpendic...   \n",
       "4      airport  An airport with some staggeredways perpendicul...   \n",
       "...        ...                                                ...   \n",
       "3145  airplane    Two planes are next the open and a lawn beside.   \n",
       "3146  airplane  A purple plane parked next to a boarding bridg...   \n",
       "3147  airplane  Two planes planes parked different sizes are i...   \n",
       "3148  airplane  Two planes are on a line on the open while a b...   \n",
       "3149  airplane  An red with red red mark and next to a boardin...   \n",
       "\n",
       "                                                   conf  \\\n",
       "0     [0.40354893, 0.9988651, 0.92300886, 0.42026994...   \n",
       "1     [0.25058964, 0.9982071, 0.9722014, 0.6550449, ...   \n",
       "2     [0.483505, 0.99916255, 0.9385024, 0.4119709, 0...   \n",
       "3     [0.25636074, 0.99622107, 0.9557086, 0.32363772...   \n",
       "4     [0.3787551, 0.9991002, 0.95848227, 0.45996037,...   \n",
       "...                                                 ...   \n",
       "3145  [0.700559, 0.4066743, 0.5457334, 0.42717522, 0...   \n",
       "3146  [0.40402263, 0.4289053, 0.91317993, 0.6797357,...   \n",
       "3147  [0.31834695, 0.4757649, 0.7869386, 0.40645906,...   \n",
       "3148  [0.6247576, 0.5185052, 0.59193176, 0.3818173, ...   \n",
       "3149  [0.34919745, 0.7915334, 0.50051045, 0.5453926,...   \n",
       "\n",
       "                                        text_embeddings  \n",
       "0     [-0.44611844, -0.5037827, -0.9770528, 0.629920...  \n",
       "1     [-0.49807495, -0.3656745, -0.86610484, 0.51463...  \n",
       "2     [-0.43180054, -0.5027431, -0.96019113, 0.59383...  \n",
       "3     [-0.14300999, -0.4275721, -0.9775194, 0.501682...  \n",
       "4     [-0.4592382, -0.52649605, -0.97654355, 0.63209...  \n",
       "...                                                 ...  \n",
       "3145  [-0.42181855, -0.5287245, -0.980238, 0.5691961...  \n",
       "3146  [-0.26916754, -0.35601264, -0.93533576, 0.4809...  \n",
       "3147  [-0.39184868, -0.40650916, -0.9101948, 0.43862...  \n",
       "3148  [-0.55357575, -0.45693985, -0.9415538, 0.64116...  \n",
       "3149  [-0.41634467, -0.20483322, -0.8536528, 0.50954...  \n",
       "\n",
       "[3150 rows x 4 columns]"
      ]
     },
     "execution_count": 74,
     "metadata": {},
     "output_type": "execute_result"
    }
   ],
   "source": [
    "data['text_embeddings'] = embeddings\n",
    "data"
   ]
  },
  {
   "cell_type": "code",
   "execution_count": 88,
   "metadata": {},
   "outputs": [],
   "source": [
    "reducer = umap.UMAP()\n",
    "txt_embeddings = np.stack(data.text_embeddings.values, axis=0)\n",
    "umap_text_embedding = reducer.fit_transform(txt_embeddings)"
   ]
  },
  {
   "cell_type": "code",
   "execution_count": 92,
   "metadata": {},
   "outputs": [],
   "source": [
    "data['x'] = list(umap_text_embedding[:,0])\n",
    "data['y'] = list(umap_text_embedding[:,1])"
   ]
  },
  {
   "cell_type": "code",
   "execution_count": 94,
   "metadata": {},
   "outputs": [],
   "source": [
    "cluster = KMeans(n_clusters=157*4, random_state=0).fit(txt_embeddings)"
   ]
  },
  {
   "cell_type": "code",
   "execution_count": 95,
   "metadata": {},
   "outputs": [],
   "source": [
    "data['cluster'] = cluster.labels_"
   ]
  },
  {
   "cell_type": "code",
   "execution_count": 96,
   "metadata": {},
   "outputs": [
    {
     "data": {
      "text/html": [
       "<div>\n",
       "<style scoped>\n",
       "    .dataframe tbody tr th:only-of-type {\n",
       "        vertical-align: middle;\n",
       "    }\n",
       "\n",
       "    .dataframe tbody tr th {\n",
       "        vertical-align: top;\n",
       "    }\n",
       "\n",
       "    .dataframe thead th {\n",
       "        text-align: right;\n",
       "    }\n",
       "</style>\n",
       "<table border=\"1\" class=\"dataframe\">\n",
       "  <thead>\n",
       "    <tr style=\"text-align: right;\">\n",
       "      <th></th>\n",
       "      <th>classes</th>\n",
       "      <th>text</th>\n",
       "      <th>conf</th>\n",
       "      <th>text_embeddings</th>\n",
       "      <th>x</th>\n",
       "      <th>y</th>\n",
       "      <th>cluster</th>\n",
       "    </tr>\n",
       "  </thead>\n",
       "  <tbody>\n",
       "    <tr>\n",
       "      <th>0</th>\n",
       "      <td>airport</td>\n",
       "      <td>An airport with a runway on the farmland and s...</td>\n",
       "      <td>[0.40354893, 0.9988651, 0.92300886, 0.42026994...</td>\n",
       "      <td>[-0.44611844, -0.5037827, -0.9770528, 0.629920...</td>\n",
       "      <td>9.838443</td>\n",
       "      <td>4.786550</td>\n",
       "      <td>531</td>\n",
       "    </tr>\n",
       "    <tr>\n",
       "      <th>1</th>\n",
       "      <td>airport</td>\n",
       "      <td>The airport with some staggered runways and a ...</td>\n",
       "      <td>[0.25058964, 0.9982071, 0.9722014, 0.6550449, ...</td>\n",
       "      <td>[-0.49807495, -0.3656745, -0.86610484, 0.51463...</td>\n",
       "      <td>6.767348</td>\n",
       "      <td>13.849251</td>\n",
       "      <td>66</td>\n",
       "    </tr>\n",
       "    <tr>\n",
       "      <th>2</th>\n",
       "      <td>airport</td>\n",
       "      <td>An airport with two parallel runways perpendic...</td>\n",
       "      <td>[0.483505, 0.99916255, 0.9385024, 0.4119709, 0...</td>\n",
       "      <td>[-0.43180054, -0.5027431, -0.96019113, 0.59383...</td>\n",
       "      <td>10.117051</td>\n",
       "      <td>5.246923</td>\n",
       "      <td>201</td>\n",
       "    </tr>\n",
       "    <tr>\n",
       "      <th>3</th>\n",
       "      <td>airport</td>\n",
       "      <td>There airport with some parallelways perpendic...</td>\n",
       "      <td>[0.25636074, 0.99622107, 0.9557086, 0.32363772...</td>\n",
       "      <td>[-0.14300999, -0.4275721, -0.9775194, 0.501682...</td>\n",
       "      <td>1.606305</td>\n",
       "      <td>8.746367</td>\n",
       "      <td>164</td>\n",
       "    </tr>\n",
       "    <tr>\n",
       "      <th>4</th>\n",
       "      <td>airport</td>\n",
       "      <td>An airport with some staggeredways perpendicul...</td>\n",
       "      <td>[0.3787551, 0.9991002, 0.95848227, 0.45996037,...</td>\n",
       "      <td>[-0.4592382, -0.52649605, -0.97654355, 0.63209...</td>\n",
       "      <td>9.575499</td>\n",
       "      <td>4.669265</td>\n",
       "      <td>540</td>\n",
       "    </tr>\n",
       "    <tr>\n",
       "      <th>...</th>\n",
       "      <td>...</td>\n",
       "      <td>...</td>\n",
       "      <td>...</td>\n",
       "      <td>...</td>\n",
       "      <td>...</td>\n",
       "      <td>...</td>\n",
       "      <td>...</td>\n",
       "    </tr>\n",
       "    <tr>\n",
       "      <th>3145</th>\n",
       "      <td>airplane</td>\n",
       "      <td>Two planes are next the open and a lawn beside.</td>\n",
       "      <td>[0.700559, 0.4066743, 0.5457334, 0.42717522, 0...</td>\n",
       "      <td>[-0.42181855, -0.5287245, -0.980238, 0.5691961...</td>\n",
       "      <td>5.644590</td>\n",
       "      <td>5.192215</td>\n",
       "      <td>161</td>\n",
       "    </tr>\n",
       "    <tr>\n",
       "      <th>3146</th>\n",
       "      <td>airplane</td>\n",
       "      <td>A purple plane parked next to a boarding bridg...</td>\n",
       "      <td>[0.40402263, 0.4289053, 0.91317993, 0.6797357,...</td>\n",
       "      <td>[-0.26916754, -0.35601264, -0.93533576, 0.4809...</td>\n",
       "      <td>4.185515</td>\n",
       "      <td>9.850986</td>\n",
       "      <td>374</td>\n",
       "    </tr>\n",
       "    <tr>\n",
       "      <th>3147</th>\n",
       "      <td>airplane</td>\n",
       "      <td>Two planes planes parked different sizes are i...</td>\n",
       "      <td>[0.31834695, 0.4757649, 0.7869386, 0.40645906,...</td>\n",
       "      <td>[-0.39184868, -0.40650916, -0.9101948, 0.43862...</td>\n",
       "      <td>5.642641</td>\n",
       "      <td>10.905988</td>\n",
       "      <td>267</td>\n",
       "    </tr>\n",
       "    <tr>\n",
       "      <th>3148</th>\n",
       "      <td>airplane</td>\n",
       "      <td>Two planes are on a line on the open while a b...</td>\n",
       "      <td>[0.6247576, 0.5185052, 0.59193176, 0.3818173, ...</td>\n",
       "      <td>[-0.55357575, -0.45693985, -0.9415538, 0.64116...</td>\n",
       "      <td>10.486596</td>\n",
       "      <td>9.688638</td>\n",
       "      <td>360</td>\n",
       "    </tr>\n",
       "    <tr>\n",
       "      <th>3149</th>\n",
       "      <td>airplane</td>\n",
       "      <td>An red with red red mark and next to a boardin...</td>\n",
       "      <td>[0.34919745, 0.7915334, 0.50051045, 0.5453926,...</td>\n",
       "      <td>[-0.41634467, -0.20483322, -0.8536528, 0.50954...</td>\n",
       "      <td>6.236307</td>\n",
       "      <td>14.337481</td>\n",
       "      <td>376</td>\n",
       "    </tr>\n",
       "  </tbody>\n",
       "</table>\n",
       "<p>3150 rows × 7 columns</p>\n",
       "</div>"
      ],
      "text/plain": [
       "       classes                                               text  \\\n",
       "0      airport  An airport with a runway on the farmland and s...   \n",
       "1      airport  The airport with some staggered runways and a ...   \n",
       "2      airport  An airport with two parallel runways perpendic...   \n",
       "3      airport  There airport with some parallelways perpendic...   \n",
       "4      airport  An airport with some staggeredways perpendicul...   \n",
       "...        ...                                                ...   \n",
       "3145  airplane    Two planes are next the open and a lawn beside.   \n",
       "3146  airplane  A purple plane parked next to a boarding bridg...   \n",
       "3147  airplane  Two planes planes parked different sizes are i...   \n",
       "3148  airplane  Two planes are on a line on the open while a b...   \n",
       "3149  airplane  An red with red red mark and next to a boardin...   \n",
       "\n",
       "                                                   conf  \\\n",
       "0     [0.40354893, 0.9988651, 0.92300886, 0.42026994...   \n",
       "1     [0.25058964, 0.9982071, 0.9722014, 0.6550449, ...   \n",
       "2     [0.483505, 0.99916255, 0.9385024, 0.4119709, 0...   \n",
       "3     [0.25636074, 0.99622107, 0.9557086, 0.32363772...   \n",
       "4     [0.3787551, 0.9991002, 0.95848227, 0.45996037,...   \n",
       "...                                                 ...   \n",
       "3145  [0.700559, 0.4066743, 0.5457334, 0.42717522, 0...   \n",
       "3146  [0.40402263, 0.4289053, 0.91317993, 0.6797357,...   \n",
       "3147  [0.31834695, 0.4757649, 0.7869386, 0.40645906,...   \n",
       "3148  [0.6247576, 0.5185052, 0.59193176, 0.3818173, ...   \n",
       "3149  [0.34919745, 0.7915334, 0.50051045, 0.5453926,...   \n",
       "\n",
       "                                        text_embeddings          x          y  \\\n",
       "0     [-0.44611844, -0.5037827, -0.9770528, 0.629920...   9.838443   4.786550   \n",
       "1     [-0.49807495, -0.3656745, -0.86610484, 0.51463...   6.767348  13.849251   \n",
       "2     [-0.43180054, -0.5027431, -0.96019113, 0.59383...  10.117051   5.246923   \n",
       "3     [-0.14300999, -0.4275721, -0.9775194, 0.501682...   1.606305   8.746367   \n",
       "4     [-0.4592382, -0.52649605, -0.97654355, 0.63209...   9.575499   4.669265   \n",
       "...                                                 ...        ...        ...   \n",
       "3145  [-0.42181855, -0.5287245, -0.980238, 0.5691961...   5.644590   5.192215   \n",
       "3146  [-0.26916754, -0.35601264, -0.93533576, 0.4809...   4.185515   9.850986   \n",
       "3147  [-0.39184868, -0.40650916, -0.9101948, 0.43862...   5.642641  10.905988   \n",
       "3148  [-0.55357575, -0.45693985, -0.9415538, 0.64116...  10.486596   9.688638   \n",
       "3149  [-0.41634467, -0.20483322, -0.8536528, 0.50954...   6.236307  14.337481   \n",
       "\n",
       "      cluster  \n",
       "0         531  \n",
       "1          66  \n",
       "2         201  \n",
       "3         164  \n",
       "4         540  \n",
       "...       ...  \n",
       "3145      161  \n",
       "3146      374  \n",
       "3147      267  \n",
       "3148      360  \n",
       "3149      376  \n",
       "\n",
       "[3150 rows x 7 columns]"
      ]
     },
     "execution_count": 96,
     "metadata": {},
     "output_type": "execute_result"
    }
   ],
   "source": [
    "data"
   ]
  },
  {
   "cell_type": "code",
   "execution_count": null,
   "metadata": {},
   "outputs": [],
   "source": [
    "plt.figure(figsize=(10,10))\n",
    "# data.groupby\n",
    "filtered = data[data.classes.isin(['airport'])]\n",
    "size = pd.Series(filtered.conf.values)\n",
    "size -= size.mean()\n",
    "# size = size.map(lambda x: x.min()*1000)\n",
    "# size *= -1\n",
    "# size = size.map(lambda x: x if x > 0 else 0)\n",
    "# sns.scatterplot(data=data, x='x', y='y', hue='classes', palette='tab20', s=size)\n",
    "size"
   ]
  },
  {
   "cell_type": "code",
   "execution_count": 135,
   "metadata": {},
   "outputs": [],
   "source": [
    "plt.figure(figsize=(10, 5))\n",
    "sns.set_theme(style=\"whitegrid\")\n",
    "\n",
    "sns.barplot(x=list(range(25)), y=hist[:25], color='cyan')\n",
    "\n",
    "plt.xticks(ticks=[0, 5, 10, 15, 20, 25], labels=[0, 5, 10, 15, 20, 25])\n",
    "plt.xlabel('Word index')\n",
    "plt.ylabel('Confidence')"
   ]
  }
 ],
 "metadata": {
  "kernelspec": {
   "display_name": "Python 3.10.9 ('remote-sensing')",
   "language": "python",
   "name": "python3"
  },
  "language_info": {
   "codemirror_mode": {
    "name": "ipython",
    "version": 3
   },
   "file_extension": ".py",
   "mimetype": "text/x-python",
   "name": "python",
   "nbconvert_exporter": "python",
   "pygments_lexer": "ipython3",
   "version": "3.10.9"
  },
  "orig_nbformat": 4,
  "vscode": {
   "interpreter": {
    "hash": "917810dc88ca007b49b9c8aa582b9f2a1066457d24712c16f380cbb98b6fae45"
   }
  }
 },
 "nbformat": 4,
 "nbformat_minor": 2
}
